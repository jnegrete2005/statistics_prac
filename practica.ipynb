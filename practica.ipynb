{
 "cells": [
  {
   "cell_type": "markdown",
   "metadata": {},
   "source": [
    "# Práctica de Probabilidad y Estadística I\n",
    "\n",
    "## Ciencia de Datos e Inteligencia Artificial\n",
    "\n",
    "Joaquin Negrete, Oliver Anderson, Makar Isaev, y Wenjie Shan\n"
   ]
  },
  {
   "cell_type": "code",
   "execution_count": 16,
   "metadata": {
    "vscode": {
     "languageId": "r"
    }
   },
   "outputs": [
    {
     "data": {
      "text/html": [
       "<table class=\"dataframe\">\n",
       "<caption>A data.frame: 6 × 4</caption>\n",
       "<thead>\n",
       "\t<tr><th></th><th scope=col>title</th><th scope=col>length</th><th scope=col>budget</th><th scope=col>rating</th></tr>\n",
       "\t<tr><th></th><th scope=col>&lt;chr&gt;</th><th scope=col>&lt;int&gt;</th><th scope=col>&lt;int&gt;</th><th scope=col>&lt;dbl&gt;</th></tr>\n",
       "</thead>\n",
       "<tbody>\n",
       "\t<tr><th scope=row>1</th><td>10 Things I Hate About You</td><td> 97</td><td>16000000</td><td>6.7</td></tr>\n",
       "\t<tr><th scope=row>2</th><td>13th Warrior, The         </td><td>102</td><td>85000000</td><td>6.1</td></tr>\n",
       "\t<tr><th scope=row>3</th><td>200 Cigarettes            </td><td>101</td><td> 6000000</td><td>5.4</td></tr>\n",
       "\t<tr><th scope=row>4</th><td>24 Hour Woman, The        </td><td> 93</td><td> 2500000</td><td>5.6</td></tr>\n",
       "\t<tr><th scope=row>5</th><td>8MM                       </td><td>123</td><td>40000000</td><td>5.9</td></tr>\n",
       "\t<tr><th scope=row>6</th><td>ABCD                      </td><td>105</td><td>  200000</td><td>5.4</td></tr>\n",
       "</tbody>\n",
       "</table>\n"
      ],
      "text/latex": [
       "A data.frame: 6 × 4\n",
       "\\begin{tabular}{r|llll}\n",
       "  & title & length & budget & rating\\\\\n",
       "  & <chr> & <int> & <int> & <dbl>\\\\\n",
       "\\hline\n",
       "\t1 & 10 Things I Hate About You &  97 & 16000000 & 6.7\\\\\n",
       "\t2 & 13th Warrior, The          & 102 & 85000000 & 6.1\\\\\n",
       "\t3 & 200 Cigarettes             & 101 &  6000000 & 5.4\\\\\n",
       "\t4 & 24 Hour Woman, The         &  93 &  2500000 & 5.6\\\\\n",
       "\t5 & 8MM                        & 123 & 40000000 & 5.9\\\\\n",
       "\t6 & ABCD                       & 105 &   200000 & 5.4\\\\\n",
       "\\end{tabular}\n"
      ],
      "text/markdown": [
       "\n",
       "A data.frame: 6 × 4\n",
       "\n",
       "| <!--/--> | title &lt;chr&gt; | length &lt;int&gt; | budget &lt;int&gt; | rating &lt;dbl&gt; |\n",
       "|---|---|---|---|---|\n",
       "| 1 | 10 Things I Hate About You |  97 | 16000000 | 6.7 |\n",
       "| 2 | 13th Warrior, The          | 102 | 85000000 | 6.1 |\n",
       "| 3 | 200 Cigarettes             | 101 |  6000000 | 5.4 |\n",
       "| 4 | 24 Hour Woman, The         |  93 |  2500000 | 5.6 |\n",
       "| 5 | 8MM                        | 123 | 40000000 | 5.9 |\n",
       "| 6 | ABCD                       | 105 |   200000 | 5.4 |\n",
       "\n"
      ],
      "text/plain": [
       "  title                      length budget   rating\n",
       "1 10 Things I Hate About You  97    16000000 6.7   \n",
       "2 13th Warrior, The          102    85000000 6.1   \n",
       "3 200 Cigarettes             101     6000000 5.4   \n",
       "4 24 Hour Woman, The          93     2500000 5.6   \n",
       "5 8MM                        123    40000000 5.9   \n",
       "6 ABCD                       105      200000 5.4   "
      ]
     },
     "metadata": {},
     "output_type": "display_data"
    },
    {
     "name": "stderr",
     "output_type": "stream",
     "text": [
      "Installing package into 'C:/Users/joaqu/AppData/Local/R/win-library/4.3'\n",
      "(as 'lib' is unspecified)\n",
      "\n"
     ]
    },
    {
     "name": "stderr",
     "output_type": "stream",
     "text": [
      "also installing the dependency 'proxy'\n",
      "\n",
      "\n"
     ]
    },
    {
     "name": "stdout",
     "output_type": "stream",
     "text": [
      "package 'proxy' successfully unpacked and MD5 sums checked\n",
      "package 'e1071' successfully unpacked and MD5 sums checked\n",
      "\n",
      "The downloaded binary packages are in\n",
      "\tC:\\Users\\joaqu\\AppData\\Local\\Temp\\Rtmp6LWP4u\\downloaded_packages\n"
     ]
    }
   ],
   "source": [
    "# Load data\n",
    "load(\"./pelis1999.1.RData\")\n",
    "data <- pelis1999.1\n",
    "head(data)\n",
    "\n",
    "# Download skewness library\n",
    "install.packages(\"e1071\")\n",
    "library(e1071)\n"
   ]
  },
  {
   "cell_type": "markdown",
   "metadata": {},
   "source": [
    "## Análisis Descriptivo Multivariante\n",
    "\n",
    "### 1.a)\n"
   ]
  },
  {
   "cell_type": "code",
   "execution_count": 3,
   "metadata": {
    "vscode": {
     "languageId": "r"
    }
   },
   "outputs": [
    {
     "data": {
      "image/png": "[encoded data removed]",
      "text/plain": [
       "plot without title"
      ]
     },
     "metadata": {
      "image/png": {
       "height": 420,
       "width": 420
      }
     },
     "output_type": "display_data"
    }
   ],
   "source": [
    "stars(\n",
    "  data[, c(2:4)],\n",
    "  key.loc = c(12.7, 24.5),\n",
    "  draw.segments = TRUE,\n",
    "  full = FALSE,\n",
    ")\n"
   ]
  },
  {
   "cell_type": "markdown",
   "metadata": {},
   "source": [
    "Lo primero a ver es que el length y rating no parecen tener una relación, ya que existen películas con un rating muy alto y length muy bajo, como la 21, Atrapados; y hay otras como la como la 91, Eye of the Beholder, que pasa al revés. En el resto de películas el rating y length no parecen tener una relación clara.\n",
    "También se puede ver que el budget en casi todas las películas es muy bajo, y que el rating es muy variable, lo que indica que el rating no depende del presupuesto de la película.\n",
    "\n",
    "Es curioso ver películas con un rating muy alto y un presupuesto muy bajo, como, nuevamente, Atrapados.\n",
    "Otras películas como la 51, Chage of Climate, A, tienen todos los valores muy bajos.\n",
    "\n",
    "Finalmente, películas como las 44, 45, 57 y 58 tienen un nivel parecido de rating, length y budget, lo que indica que podrían ser del mismo género o tener algo en común.\n"
   ]
  },
  {
   "cell_type": "code",
   "execution_count": 4,
   "metadata": {
    "vscode": {
     "languageId": "r"
    }
   },
   "outputs": [
    {
     "data": {
      "text/html": [
       "<table class=\"dataframe\">\n",
       "<caption>A data.frame: 7 × 4</caption>\n",
       "<thead>\n",
       "\t<tr><th></th><th scope=col>title</th><th scope=col>length</th><th scope=col>budget</th><th scope=col>rating</th></tr>\n",
       "\t<tr><th></th><th scope=col>&lt;chr&gt;</th><th scope=col>&lt;int&gt;</th><th scope=col>&lt;int&gt;</th><th scope=col>&lt;dbl&gt;</th></tr>\n",
       "</thead>\n",
       "<tbody>\n",
       "\t<tr><th scope=row>21</th><td>Atrapados             </td><td> 26</td><td>    3500</td><td>9.4</td></tr>\n",
       "\t<tr><th scope=row>91</th><td>Eye of the Beholder   </td><td>109</td><td>15000000</td><td>4.5</td></tr>\n",
       "\t<tr><th scope=row>51</th><td>Change of Climate, A  </td><td> 19</td><td>   15000</td><td>4.6</td></tr>\n",
       "\t<tr><th scope=row>44</th><td>Boys Don't Cry        </td><td>118</td><td> 2000000</td><td>7.6</td></tr>\n",
       "\t<tr><th scope=row>45</th><td>Bravo Two Zero        </td><td>115</td><td> 6500000</td><td>6.5</td></tr>\n",
       "\t<tr><th scope=row>57</th><td>Cider House Rules, The</td><td>126</td><td>24000000</td><td>7.5</td></tr>\n",
       "\t<tr><th scope=row>58</th><td>Clown in Babylon, A   </td><td>105</td><td>  150000</td><td>7.8</td></tr>\n",
       "</tbody>\n",
       "</table>\n"
      ],
      "text/latex": [
       "A data.frame: 7 × 4\n",
       "\\begin{tabular}{r|llll}\n",
       "  & title & length & budget & rating\\\\\n",
       "  & <chr> & <int> & <int> & <dbl>\\\\\n",
       "\\hline\n",
       "\t21 & Atrapados              &  26 &     3500 & 9.4\\\\\n",
       "\t91 & Eye of the Beholder    & 109 & 15000000 & 4.5\\\\\n",
       "\t51 & Change of Climate, A   &  19 &    15000 & 4.6\\\\\n",
       "\t44 & Boys Don't Cry         & 118 &  2000000 & 7.6\\\\\n",
       "\t45 & Bravo Two Zero         & 115 &  6500000 & 6.5\\\\\n",
       "\t57 & Cider House Rules, The & 126 & 24000000 & 7.5\\\\\n",
       "\t58 & Clown in Babylon, A    & 105 &   150000 & 7.8\\\\\n",
       "\\end{tabular}\n"
      ],
      "text/markdown": [
       "\n",
       "A data.frame: 7 × 4\n",
       "\n",
       "| <!--/--> | title &lt;chr&gt; | length &lt;int&gt; | budget &lt;int&gt; | rating &lt;dbl&gt; |\n",
       "|---|---|---|---|---|\n",
       "| 21 | Atrapados              |  26 |     3500 | 9.4 |\n",
       "| 91 | Eye of the Beholder    | 109 | 15000000 | 4.5 |\n",
       "| 51 | Change of Climate, A   |  19 |    15000 | 4.6 |\n",
       "| 44 | Boys Don't Cry         | 118 |  2000000 | 7.6 |\n",
       "| 45 | Bravo Two Zero         | 115 |  6500000 | 6.5 |\n",
       "| 57 | Cider House Rules, The | 126 | 24000000 | 7.5 |\n",
       "| 58 | Clown in Babylon, A    | 105 |   150000 | 7.8 |\n",
       "\n"
      ],
      "text/plain": [
       "   title                  length budget   rating\n",
       "21 Atrapados               26        3500 9.4   \n",
       "91 Eye of the Beholder    109    15000000 4.5   \n",
       "51 Change of Climate, A    19       15000 4.6   \n",
       "44 Boys Don't Cry         118     2000000 7.6   \n",
       "45 Bravo Two Zero         115     6500000 6.5   \n",
       "57 Cider House Rules, The 126    24000000 7.5   \n",
       "58 Clown in Babylon, A    105      150000 7.8   "
      ]
     },
     "metadata": {},
     "output_type": "display_data"
    }
   ],
   "source": [
    "data[c(21, 91, 51, 44, 45, 57, 58), ]\n"
   ]
  },
  {
   "cell_type": "markdown",
   "metadata": {},
   "source": [
    "### 1.b)\n"
   ]
  },
  {
   "cell_type": "code",
   "execution_count": 5,
   "metadata": {
    "vscode": {
     "languageId": "r"
    }
   },
   "outputs": [
    {
     "name": "stderr",
     "output_type": "stream",
     "text": [
      "Warning message in par(usr):\n",
      "\"argument 1 does not name a graphical parameter\"\n",
      "Warning message in par(usr):\n",
      "\"argument 1 does not name a graphical parameter\"\n",
      "Warning message in par(usr):\n",
      "\"argument 1 does not name a graphical parameter\"\n"
     ]
    },
    {
     "data": {
      "image/png": "[encoded data removed]",
      "text/plain": [
       "plot without title"
      ]
     },
     "metadata": {
      "image/png": {
       "height": 420,
       "width": 420
      }
     },
     "output_type": "display_data"
    }
   ],
   "source": [
    "panel.hist <- function(x, ...) {\n",
    "  usr <- par(\"usr\")\n",
    "  on.exit(par(usr))\n",
    "  par(usr = c(usr[1:2], 0, 1.5))\n",
    "  h <- hist(x, plot = FALSE)\n",
    "  breaks <- h$breaks\n",
    "  nB <- length(breaks)\n",
    "  y <- h$counts\n",
    "  y <- y / max(y)\n",
    "  rect(breaks[-nB], 0, breaks[-1], y, col = \"cyan\", ...)\n",
    "}\n",
    "\n",
    "# Scatterplot matrix\n",
    "pairs(\n",
    "  data[, c(2:4)],\n",
    "  pch = 19,\n",
    "  cex = 0.5,\n",
    "  lower.panel = panel.smooth,\n",
    "  main = \"Scatterplot Matrix of Movie Ratings\",\n",
    "  cex.main = 1.5,\n",
    "  cex.axis = 1.5,\n",
    "  cex.lab = 1.5,\n",
    "  diag.panel = panel.hist,\n",
    ")\n"
   ]
  },
  {
   "cell_type": "markdown",
   "metadata": {},
   "source": [
    "Se puede ver que en length vs budget hay una especie de gráfica logarítmica, mientras que en budget vs length hay una gráfica exponencial.\n",
    "Luego, en length vs rating solo parece haber una nube de puntos, no hay una línea. Y en rating vs length R si dibuja una línea, pero no es una línea recta.\n",
    "Finalmente, en budget vs rating hay una nube de puntos que parece una campana de Gauss.\n",
    "\n",
    "Ahora voy a analizar la correlación entre las variables.\n",
    "\n",
    "### 1.c)\n"
   ]
  },
  {
   "cell_type": "code",
   "execution_count": 6,
   "metadata": {
    "vscode": {
     "languageId": "r"
    }
   },
   "outputs": [
    {
     "data": {
      "text/html": [
       "<table class=\"dataframe\">\n",
       "<caption>A matrix: 3 × 3 of type dbl</caption>\n",
       "<thead>\n",
       "\t<tr><th></th><th scope=col>length</th><th scope=col>budget</th><th scope=col>rating</th></tr>\n",
       "</thead>\n",
       "<tbody>\n",
       "\t<tr><th scope=row>length</th><td>1.0000000</td><td>0.4540243</td><td>0.2673303</td></tr>\n",
       "\t<tr><th scope=row>budget</th><td>0.4540243</td><td>1.0000000</td><td>0.1357281</td></tr>\n",
       "\t<tr><th scope=row>rating</th><td>0.2673303</td><td>0.1357281</td><td>1.0000000</td></tr>\n",
       "</tbody>\n",
       "</table>\n"
      ],
      "text/latex": [
       "A matrix: 3 × 3 of type dbl\n",
       "\\begin{tabular}{r|lll}\n",
       "  & length & budget & rating\\\\\n",
       "\\hline\n",
       "\tlength & 1.0000000 & 0.4540243 & 0.2673303\\\\\n",
       "\tbudget & 0.4540243 & 1.0000000 & 0.1357281\\\\\n",
       "\trating & 0.2673303 & 0.1357281 & 1.0000000\\\\\n",
       "\\end{tabular}\n"
      ],
      "text/markdown": [
       "\n",
       "A matrix: 3 × 3 of type dbl\n",
       "\n",
       "| <!--/--> | length | budget | rating |\n",
       "|---|---|---|---|\n",
       "| length | 1.0000000 | 0.4540243 | 0.2673303 |\n",
       "| budget | 0.4540243 | 1.0000000 | 0.1357281 |\n",
       "| rating | 0.2673303 | 0.1357281 | 1.0000000 |\n",
       "\n"
      ],
      "text/plain": [
       "       length    budget    rating   \n",
       "length 1.0000000 0.4540243 0.2673303\n",
       "budget 0.4540243 1.0000000 0.1357281\n",
       "rating 0.2673303 0.1357281 1.0000000"
      ]
     },
     "metadata": {},
     "output_type": "display_data"
    }
   ],
   "source": [
    "# Correlation matrix\n",
    "cor(data[, c(2:4)])\n"
   ]
  },
  {
   "cell_type": "markdown",
   "metadata": {},
   "source": [
    "Se ve que el par de variables con mayor coeficiente de correlación es budget y length, lo cual tiene sentido porque a mayor longitud de película, mayor tiene que ser el presupuesto. Sin embargo, es una correlación débil, ya que lo contrario no sucede. Puede haber películas con un presupuesto muy alto y una longitud muy baja.\n",
    "Luego, el par de variables con menor coeficiente de correlación es budget y rating, lo cual también tiene sentido, ya que el presupuesto de la película no tiene por qué estar relacionada con el rating. Lo mismo pasa con la longitud de la película.\n"
   ]
  },
  {
   "cell_type": "markdown",
   "metadata": {},
   "source": [
    "## Análisis descriptivo de una variable unidimensional. Rating.\n",
    "\n",
    "### 2.a)\n"
   ]
  },
  {
   "cell_type": "code",
   "execution_count": 7,
   "metadata": {
    "vscode": {
     "languageId": "r"
    }
   },
   "outputs": [
    {
     "data": {
      "text/plain": [
       "   Min. 1st Qu.  Median    Mean 3rd Qu.    Max. \n",
       "   2.40    5.20    6.10    5.91    6.60    9.40 "
      ]
     },
     "metadata": {},
     "output_type": "display_data"
    }
   ],
   "source": [
    "summary(data$rating)\n"
   ]
  },
  {
   "cell_type": "markdown",
   "metadata": {},
   "source": [
    "Tenemos una muestra de 100 datos, por lo tanto, para la fórmula de Sturges, consideramos\n",
    "\n",
    "$$M = 100$$\n",
    "\n",
    "Y por tanto, tenemos que\n",
    "\n",
    "$$c = 1 + log_2(100) \\approx 7.6439$$\n",
    "\n",
    "Así que por ser impar, redondeamos a la baja, 7, y tenemos 7 intervalos.\n"
   ]
  },
  {
   "cell_type": "code",
   "execution_count": 8,
   "metadata": {
    "vscode": {
     "languageId": "r"
    }
   },
   "outputs": [
    {
     "data": {
      "text/plain": [
       "data_cut\n",
       "(2.39,3.4]  (3.4,4.4]  (4.4,5.4]  (5.4,6.4]  (6.4,7.4]  (7.4,8.4] (8.4,9.41] \n",
       "         1         10         22         36         22          6          3 "
      ]
     },
     "metadata": {},
     "output_type": "display_data"
    },
    {
     "data": {
      "text/html": [
       "9.4"
      ],
      "text/latex": [
       "9.4"
      ],
      "text/markdown": [
       "9.4"
      ],
      "text/plain": [
       "[1] 9.4"
      ]
     },
     "metadata": {},
     "output_type": "display_data"
    }
   ],
   "source": [
    "data_cut <- cut(data$rating, breaks = 7)\n",
    "table(data_cut)\n",
    "\n",
    "# Get the max rating value\n",
    "max_rating <- max(data$rating)\n",
    "max_rating\n"
   ]
  },
  {
   "cell_type": "markdown",
   "metadata": {},
   "source": [
    "Como los intervalos son muy irregulares, vamos a tomar los intervalos\n",
    "\n",
    "$$[0, 1.25), [1.25, 2.5), [2.5, 3.75), [3.75, 5), [5, 6.25), [6.25, 7.5), [7.5, 8.75), [8.75, 10)$$\n",
    "\n",
    "Donde los intervalos significan lo siguiente:\n",
    "Pésimo - Extremadamente mala - Muy mala - Mala - Regular - Buena - Muy buena - Excelente\n",
    "\n",
    "Podemos no incluir el 10 porque el máximo es un 9.4\n"
   ]
  },
  {
   "cell_type": "code",
   "execution_count": 9,
   "metadata": {
    "vscode": {
     "languageId": "r"
    }
   },
   "outputs": [
    {
     "data": {
      "text/plain": [
       "data_cut\n",
       "  [0,1.25) [1.25,2.5) [2.5,3.75)   [3.75,5)   [5,6.25) [6.25,7.5) [7.5,8.75) \n",
       "         0          1          5         13         42         30          8 \n",
       " [8.75,10) \n",
       "         1 "
      ]
     },
     "metadata": {},
     "output_type": "display_data"
    }
   ],
   "source": [
    "data_cut <- cut(data$rating, breaks = c(0, 1.25, 2.5, 3.75, 5, 6.25, 7.5, 8.75, 10), right = FALSE)\n",
    "table(data_cut)\n"
   ]
  },
  {
   "cell_type": "markdown",
   "metadata": {},
   "source": [
    "Ahora que podemos ver mejor los datos, construimos la tabla de frecuencias.\n"
   ]
  },
  {
   "cell_type": "code",
   "execution_count": 10,
   "metadata": {
    "vscode": {
     "languageId": "r"
    }
   },
   "outputs": [
    {
     "data": {
      "text/html": [
       "<table class=\"dataframe\">\n",
       "<caption>A matrix: 8 × 4 of type dbl</caption>\n",
       "<thead>\n",
       "\t<tr><th></th><th scope=col>n_i</th><th scope=col>N_i</th><th scope=col>f_i</th><th scope=col>F_i</th></tr>\n",
       "</thead>\n",
       "<tbody>\n",
       "\t<tr><th scope=row>[0,1.25)</th><td> 0</td><td>  0</td><td>0.00</td><td>0.00</td></tr>\n",
       "\t<tr><th scope=row>[1.25,2.5)</th><td> 1</td><td>  1</td><td>0.01</td><td>0.01</td></tr>\n",
       "\t<tr><th scope=row>[2.5,3.75)</th><td> 5</td><td>  6</td><td>0.05</td><td>0.06</td></tr>\n",
       "\t<tr><th scope=row>[3.75,5)</th><td>13</td><td> 19</td><td>0.13</td><td>0.19</td></tr>\n",
       "\t<tr><th scope=row>[5,6.25)</th><td>42</td><td> 61</td><td>0.42</td><td>0.61</td></tr>\n",
       "\t<tr><th scope=row>[6.25,7.5)</th><td>30</td><td> 91</td><td>0.30</td><td>0.91</td></tr>\n",
       "\t<tr><th scope=row>[7.5,8.75)</th><td> 8</td><td> 99</td><td>0.08</td><td>0.99</td></tr>\n",
       "\t<tr><th scope=row>[8.75,10)</th><td> 1</td><td>100</td><td>0.01</td><td>1.00</td></tr>\n",
       "</tbody>\n",
       "</table>\n"
      ],
      "text/latex": [
       "A matrix: 8 × 4 of type dbl\n",
       "\\begin{tabular}{r|llll}\n",
       "  & n\\_i & N\\_i & f\\_i & F\\_i\\\\\n",
       "\\hline\n",
       "\t{[}0,1.25) &  0 &   0 & 0.00 & 0.00\\\\\n",
       "\t{[}1.25,2.5) &  1 &   1 & 0.01 & 0.01\\\\\n",
       "\t{[}2.5,3.75) &  5 &   6 & 0.05 & 0.06\\\\\n",
       "\t{[}3.75,5) & 13 &  19 & 0.13 & 0.19\\\\\n",
       "\t{[}5,6.25) & 42 &  61 & 0.42 & 0.61\\\\\n",
       "\t{[}6.25,7.5) & 30 &  91 & 0.30 & 0.91\\\\\n",
       "\t{[}7.5,8.75) &  8 &  99 & 0.08 & 0.99\\\\\n",
       "\t{[}8.75,10) &  1 & 100 & 0.01 & 1.00\\\\\n",
       "\\end{tabular}\n"
      ],
      "text/markdown": [
       "\n",
       "A matrix: 8 × 4 of type dbl\n",
       "\n",
       "| <!--/--> | n_i | N_i | f_i | F_i |\n",
       "|---|---|---|---|---|\n",
       "| [0,1.25) |  0 |   0 | 0.00 | 0.00 |\n",
       "| [1.25,2.5) |  1 |   1 | 0.01 | 0.01 |\n",
       "| [2.5,3.75) |  5 |   6 | 0.05 | 0.06 |\n",
       "| [3.75,5) | 13 |  19 | 0.13 | 0.19 |\n",
       "| [5,6.25) | 42 |  61 | 0.42 | 0.61 |\n",
       "| [6.25,7.5) | 30 |  91 | 0.30 | 0.91 |\n",
       "| [7.5,8.75) |  8 |  99 | 0.08 | 0.99 |\n",
       "| [8.75,10) |  1 | 100 | 0.01 | 1.00 |\n",
       "\n"
      ],
      "text/plain": [
       "           n_i N_i f_i  F_i \n",
       "[0,1.25)    0    0 0.00 0.00\n",
       "[1.25,2.5)  1    1 0.01 0.01\n",
       "[2.5,3.75)  5    6 0.05 0.06\n",
       "[3.75,5)   13   19 0.13 0.19\n",
       "[5,6.25)   42   61 0.42 0.61\n",
       "[6.25,7.5) 30   91 0.30 0.91\n",
       "[7.5,8.75)  8   99 0.08 0.99\n",
       "[8.75,10)   1  100 0.01 1.00"
      ]
     },
     "metadata": {},
     "output_type": "display_data"
    },
    {
     "data": {
      "text/html": [
       "<table class=\"dataframe\">\n",
       "<caption>A matrix: 3 × 2 of type dbl</caption>\n",
       "<thead>\n",
       "\t<tr><th></th><th scope=col>Q_i</th><th scope=col></th></tr>\n",
       "</thead>\n",
       "<tbody>\n",
       "\t<tr><th scope=row>25%</th><td>25.25</td><td>5.2</td></tr>\n",
       "\t<tr><th scope=row>50%</th><td>50.50</td><td>6.1</td></tr>\n",
       "\t<tr><th scope=row>75%</th><td>75.75</td><td>6.6</td></tr>\n",
       "</tbody>\n",
       "</table>\n"
      ],
      "text/latex": [
       "A matrix: 3 × 2 of type dbl\n",
       "\\begin{tabular}{r|ll}\n",
       "  & Q\\_i & \\\\\n",
       "\\hline\n",
       "\t25\\% & 25.25 & 5.2\\\\\n",
       "\t50\\% & 50.50 & 6.1\\\\\n",
       "\t75\\% & 75.75 & 6.6\\\\\n",
       "\\end{tabular}\n"
      ],
      "text/markdown": [
       "\n",
       "A matrix: 3 × 2 of type dbl\n",
       "\n",
       "| <!--/--> | Q_i | <!----> |\n",
       "|---|---|---|\n",
       "| 25% | 25.25 | 5.2 |\n",
       "| 50% | 50.50 | 6.1 |\n",
       "| 75% | 75.75 | 6.6 |\n",
       "\n"
      ],
      "text/plain": [
       "    Q_i      \n",
       "25% 25.25 5.2\n",
       "50% 50.50 6.1\n",
       "75% 75.75 6.6"
      ]
     },
     "metadata": {},
     "output_type": "display_data"
    }
   ],
   "source": [
    "table <- cbind(\n",
    "  n_i = table(data_cut),\n",
    "  N_i = cumsum(table(data_cut)),\n",
    "  f_i = table(data_cut) / length(data$rating),\n",
    "  F_i = cumsum(table(data_cut)) / length(data$rating)\n",
    ")\n",
    "\n",
    "table\n",
    "\n",
    "n <- length(data$rating)\n",
    "\n",
    "Q_1 <- (n + 1) * 0.25\n",
    "Q_2 <- (n + 1) * 0.5\n",
    "Q_3 <- (n + 1) * 0.75\n",
    "\n",
    "# Make a table with the quantiles\n",
    "quantiles <- cbind(\n",
    "  Q_i = c(Q_1, Q_2, Q_3),\n",
    "  quantile(data$rating, c(0.25, 0.5, 0.75))\n",
    ")\n",
    "quantiles\n"
   ]
  },
  {
   "cell_type": "markdown",
   "metadata": {},
   "source": [
    "Claramente, la clase con menor frecuencia es la [0, 1.25) con 0 datos. La que tiene mayor frecuencia, la clase modal, es [5, 6.25), con 42 datos.\n",
    "Los cuantiles están representados en la tabla, siendo el Q1 = 5.2, Q2 (mediana) = 6.1, y Q3 = 6.6.\n",
    "\n",
    "### 2.b)\n",
    "\n",
    "La clase modal, como dijimos antes es [5, 6.25).\n",
    "Ahora haremos el histograma para identificar huecos, clases separadas, y simetría/asimetría.\n"
   ]
  },
  {
   "cell_type": "code",
   "execution_count": 12,
   "metadata": {
    "vscode": {
     "languageId": "r"
    }
   },
   "outputs": [
    {
     "data": {
      "image/png": "[encoded data removed]",
      "text/plain": [
       "Plot with title \"Histogram of Movie Ratings\""
      ]
     },
     "metadata": {
      "image/png": {
       "height": 420,
       "width": 420
      }
     },
     "output_type": "display_data"
    }
   ],
   "source": [
    "# Make rating histogram\n",
    "hist(\n",
    "  data$rating,\n",
    "  breaks = c(0, 1.25, 2.5, 3.75, 5, 6.25, 7.5, 8.75, 10),\n",
    "  col = \"blue\",\n",
    "  xlab = \"Rating\",\n",
    "  ylab = \"Frequency\",\n",
    "  main = \"Histogram of Movie Ratings\",\n",
    "  cex.main = 1.5,\n",
    "  cex.axis = 1.5,\n",
    "  cex.lab = 1.5\n",
    ")\n"
   ]
  },
  {
   "cell_type": "markdown",
   "metadata": {},
   "source": [
    "Observamos que existe un hueco en el primer intervalo, aunque no separa dos clases. Respecto a las clases separadas que no se presenta ninguna. Y pareciera que es ligeramente asimétrico hacia la izquierda, pero para asegurarnos, calculamos el coeficiente de asimetría.\n"
   ]
  },
  {
   "cell_type": "code",
   "execution_count": 20,
   "metadata": {
    "vscode": {
     "languageId": "r"
    }
   },
   "outputs": [
    {
     "data": {
      "text/html": [
       "-0.109765841910461"
      ],
      "text/latex": [
       "-0.109765841910461"
      ],
      "text/markdown": [
       "-0.109765841910461"
      ],
      "text/plain": [
       "[1] -0.1097658"
      ]
     },
     "metadata": {},
     "output_type": "display_data"
    },
    {
     "data": {
      "text/html": [
       "0.249386807969434"
      ],
      "text/latex": [
       "0.249386807969434"
      ],
      "text/markdown": [
       "0.249386807969434"
      ],
      "text/plain": [
       "[1] 0.2493868"
      ]
     },
     "metadata": {},
     "output_type": "display_data"
    },
    {
     "data": {
      "text/html": [
       "6.1"
      ],
      "text/latex": [
       "6.1"
      ],
      "text/markdown": [
       "6.1"
      ],
      "text/plain": [
       "[1] 6.1"
      ]
     },
     "metadata": {},
     "output_type": "display_data"
    }
   ],
   "source": [
    "sk <- skewness(data$rating)\n",
    "kur <- kurtosis(data$rating)\n",
    "\n",
    "# Print the skewness and kurtosis\n",
    "sk\n",
    "kur\n",
    "median(data$rating)\n"
   ]
  },
  {
   "cell_type": "markdown",
   "metadata": {},
   "source": [
    "Vemos que el coeficiente de asimetría es ligeramente negativo, por lo que confirmamos lo anterior. Esto nos dice que las películas tienden a tener una rating mayor a 5, pero no mucho mayor.\n",
    "Por otro lado vemos el coeficiente de curtosis es superior a 0, por tanto, consideramos que la distribución es leptocúrtica, es decir, tiene una mayor concentración de datos en torno a la media, que es 6.1.\n",
    "\n",
    "### 2.c) Diagrama de tallo y hojas\n"
   ]
  },
  {
   "cell_type": "code",
   "execution_count": 18,
   "metadata": {
    "vscode": {
     "languageId": "r"
    }
   },
   "outputs": [
    {
     "name": "stdout",
     "output_type": "stream",
     "text": [
      "\n",
      "  The decimal point is at the |\n",
      "\n",
      "  2 | 4\n",
      "  3 | 567779\n",
      "  4 | 012355555668\n",
      "  5 | 0011122333344455666778899999\n",
      "  6 | 001111111222223333444455556667778899\n",
      "  7 | 00113344566889\n",
      "  8 | 55\n",
      "  9 | 4\n",
      "\n"
     ]
    }
   ],
   "source": [
    "stem(data$rating)\n"
   ]
  },
  {
   "cell_type": "markdown",
   "metadata": {},
   "source": [
    "Vemos que como confirmaba la curtosis, la distribución es leptocúrtica, ya que la mayoría de los datos se concentran en torno a la media, el 6, y ahí también está la moda. Podemos ver otra versión del diagrama con más clases.\n"
   ]
  },
  {
   "cell_type": "code",
   "execution_count": 21,
   "metadata": {
    "vscode": {
     "languageId": "r"
    }
   },
   "outputs": [
    {
     "name": "stdout",
     "output_type": "stream",
     "text": [
      "\n",
      "  The decimal point is at the |\n",
      "\n",
      "  2 | 4\n",
      "  2 | \n",
      "  3 | \n",
      "  3 | 567779\n",
      "  4 | 0123\n",
      "  4 | 55555668\n",
      "  5 | 00111223333444\n",
      "  5 | 55666778899999\n",
      "  6 | 0011111112222233334444\n",
      "  6 | 55556667778899\n",
      "  7 | 00113344\n",
      "  7 | 566889\n",
      "  8 | \n",
      "  8 | 55\n",
      "  9 | 4\n",
      "\n"
     ]
    }
   ],
   "source": [
    "stem(data$rating, scale = 2)\n"
   ]
  },
  {
   "cell_type": "markdown",
   "metadata": {},
   "source": [
    "Ahora se aprecia mejor la distribución de los datos, y se ve mejor la simetría ligeramente a la izquierda de los datos.\n",
    "\n",
    "Para hallar los datos atípicos que presenta este diagrama, vamos a utilizar el criterio para detectar datos atípicos basados en el rango intercuartílico.\n",
    "\n",
    "#### Datos atípicos leves\n"
   ]
  },
  {
   "cell_type": "code",
   "execution_count": 30,
   "metadata": {
    "vscode": {
     "languageId": "r"
    }
   },
   "outputs": [
    {
     "data": {
      "text/html": [
       "<style>\n",
       ".list-inline {list-style: none; margin:0; padding: 0}\n",
       ".list-inline>li {display: inline-block}\n",
       ".list-inline>li:not(:last-child)::after {content: \"\\00b7\"; padding: 0 .5ex}\n",
       "</style>\n",
       "<ol class=list-inline><li>9.4</li><li>2.4</li></ol>\n"
      ],
      "text/latex": [
       "\\begin{enumerate*}\n",
       "\\item 9.4\n",
       "\\item 2.4\n",
       "\\end{enumerate*}\n"
      ],
      "text/markdown": [
       "1. 9.4\n",
       "2. 2.4\n",
       "\n",
       "\n"
      ],
      "text/plain": [
       "[1] 9.4 2.4"
      ]
     },
     "metadata": {},
     "output_type": "display_data"
    },
    {
     "data": {
      "text/html": [],
      "text/latex": [],
      "text/markdown": [],
      "text/plain": [
       "numeric(0)"
      ]
     },
     "metadata": {},
     "output_type": "display_data"
    }
   ],
   "source": [
    "Q_1 <- 5.2\n",
    "Q_3 <- 6.6\n",
    "RI <- Q_3 - Q_1\n",
    "\n",
    "# Default outliers\n",
    "data$rating[which(data$rating < (Q_1 - 1.5 * RI) | data$rating > (Q_3 + 1.5 * RI))]\n",
    "\n",
    "# Excess outliers\n",
    "data$rating[which(data$rating > (Q_3 + 3 * RI))]\n"
   ]
  },
  {
   "cell_type": "markdown",
   "metadata": {},
   "source": [
    "Se puede ver que hay dos datos atípicos leves, que son el 9.4 y el 2.4, y no hay datos atípicos extremos. Por lo que podemos considerar que los datos están bien distribuidos, y la media es representativa de la distribución de los datos.\n"
   ]
  }
 ],
 "metadata": {
  "kernelspec": {
   "display_name": "R",
   "language": "R",
   "name": "ir"
  },
  "language_info": {
   "codemirror_mode": "r",
   "file_extension": ".r",
   "mimetype": "text/x-r-source",
   "name": "R",
   "pygments_lexer": "r",
   "version": "4.3.2"
  }
 },
 "nbformat": 4,
 "nbformat_minor": 2
}
