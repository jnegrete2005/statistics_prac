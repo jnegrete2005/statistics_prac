{
 "cells": [
  {
   "cell_type": "markdown",
   "metadata": {},
   "source": [
    "# Práctica de Probabilidad y Estadística I\n",
    "\n",
    "## Ciencia de Datos e Inteligencia Artificial\n",
    "\n",
    "Joaquin Negrete, Oliver Anderson, Makar Isaev, y Wenjie Shan\n"
   ]
  },
  {
   "cell_type": "code",
   "execution_count": 4,
   "metadata": {
    "vscode": {
     "languageId": "r"
    }
   },
   "outputs": [
    {
     "data": {
      "text/html": [
       "<table class=\"dataframe\">\n",
       "<caption>A data.frame: 6 × 4</caption>\n",
       "<thead>\n",
       "\t<tr><th></th><th scope=col>title</th><th scope=col>length</th><th scope=col>budget</th><th scope=col>rating</th></tr>\n",
       "\t<tr><th></th><th scope=col>&lt;chr&gt;</th><th scope=col>&lt;int&gt;</th><th scope=col>&lt;int&gt;</th><th scope=col>&lt;dbl&gt;</th></tr>\n",
       "</thead>\n",
       "<tbody>\n",
       "\t<tr><th scope=row>1</th><td>10 Things I Hate About You</td><td> 97</td><td>16000000</td><td>6.7</td></tr>\n",
       "\t<tr><th scope=row>2</th><td>13th Warrior, The         </td><td>102</td><td>85000000</td><td>6.1</td></tr>\n",
       "\t<tr><th scope=row>3</th><td>200 Cigarettes            </td><td>101</td><td> 6000000</td><td>5.4</td></tr>\n",
       "\t<tr><th scope=row>4</th><td>24 Hour Woman, The        </td><td> 93</td><td> 2500000</td><td>5.6</td></tr>\n",
       "\t<tr><th scope=row>5</th><td>8MM                       </td><td>123</td><td>40000000</td><td>5.9</td></tr>\n",
       "\t<tr><th scope=row>6</th><td>ABCD                      </td><td>105</td><td>  200000</td><td>5.4</td></tr>\n",
       "</tbody>\n",
       "</table>\n"
      ],
      "text/latex": [
       "A data.frame: 6 × 4\n",
       "\\begin{tabular}{r|llll}\n",
       "  & title & length & budget & rating\\\\\n",
       "  & <chr> & <int> & <int> & <dbl>\\\\\n",
       "\\hline\n",
       "\t1 & 10 Things I Hate About You &  97 & 16000000 & 6.7\\\\\n",
       "\t2 & 13th Warrior, The          & 102 & 85000000 & 6.1\\\\\n",
       "\t3 & 200 Cigarettes             & 101 &  6000000 & 5.4\\\\\n",
       "\t4 & 24 Hour Woman, The         &  93 &  2500000 & 5.6\\\\\n",
       "\t5 & 8MM                        & 123 & 40000000 & 5.9\\\\\n",
       "\t6 & ABCD                       & 105 &   200000 & 5.4\\\\\n",
       "\\end{tabular}\n"
      ],
      "text/markdown": [
       "\n",
       "A data.frame: 6 × 4\n",
       "\n",
       "| <!--/--> | title &lt;chr&gt; | length &lt;int&gt; | budget &lt;int&gt; | rating &lt;dbl&gt; |\n",
       "|---|---|---|---|---|\n",
       "| 1 | 10 Things I Hate About You |  97 | 16000000 | 6.7 |\n",
       "| 2 | 13th Warrior, The          | 102 | 85000000 | 6.1 |\n",
       "| 3 | 200 Cigarettes             | 101 |  6000000 | 5.4 |\n",
       "| 4 | 24 Hour Woman, The         |  93 |  2500000 | 5.6 |\n",
       "| 5 | 8MM                        | 123 | 40000000 | 5.9 |\n",
       "| 6 | ABCD                       | 105 |   200000 | 5.4 |\n",
       "\n"
      ],
      "text/plain": [
       "  title                      length budget   rating\n",
       "1 10 Things I Hate About You  97    16000000 6.7   \n",
       "2 13th Warrior, The          102    85000000 6.1   \n",
       "3 200 Cigarettes             101     6000000 5.4   \n",
       "4 24 Hour Woman, The          93     2500000 5.6   \n",
       "5 8MM                        123    40000000 5.9   \n",
       "6 ABCD                       105      200000 5.4   "
      ]
     },
     "metadata": {},
     "output_type": "display_data"
    }
   ],
   "source": [
    "# Load data\n",
    "load(\"./pelis1999.1.RData\")\n",
    "data <- pelis1999.1\n",
    "head(data)\n"
   ]
  },
  {
   "cell_type": "markdown",
   "metadata": {},
   "source": [
    "## Análisis Descriptivo Multivariante\n",
    "\n",
    "### 1.a)\n"
   ]
  },
  {
   "cell_type": "code",
   "execution_count": 5,
   "metadata": {
    "vscode": {
     "languageId": "r"
    }
   },
   "outputs": [
    {
     "data": {
      "image/png": "[encoded data removed]",
      "text/plain": [
       "plot without title"
      ]
     },
     "metadata": {
      "image/png": {
       "height": 420,
       "width": 420
      }
     },
     "output_type": "display_data"
    }
   ],
   "source": [
    "stars(\n",
    "  data[, c(2:4)],\n",
    "  key.loc = c(12.7, 24.5),\n",
    "  draw.segments = TRUE,\n",
    "  full = FALSE,\n",
    ")\n"
   ]
  },
  {
   "cell_type": "markdown",
   "metadata": {},
   "source": [
    "Lo primero a ver es que el length y rating no parecen tener una relación, ya que existen películas con un rating muy alto y length muy bajo, como la 21, Atrapados; y hay otras como la como la 91, Eye of the Beholder, que pasa al revés. En el resto de películas el rating y length no parecen tener una relación clara.\n",
    "También se puede ver que el budget en casi todas las películas es muy bajo, y que el rating es muy variable, lo que indica que el rating no depende del presupuesto de la película.\n",
    "\n",
    "Es curioso ver películas con un rating muy alto y un presupuesto muy bajo, como, nuevamente, Atrapados.\n",
    "Otras películas como la 51, Chage of Climate, A, tienen todos los valores muy bajos.\n",
    "\n",
    "Finalmente, películas como las 44, 45, 57 y 58 tienen un nivel parecido de rating, length y budget, lo que indica que podrían ser del mismo género o tener algo en común.\n"
   ]
  },
  {
   "cell_type": "code",
   "execution_count": 6,
   "metadata": {
    "vscode": {
     "languageId": "r"
    }
   },
   "outputs": [
    {
     "data": {
      "text/html": [
       "<table class=\"dataframe\">\n",
       "<caption>A data.frame: 7 × 4</caption>\n",
       "<thead>\n",
       "\t<tr><th></th><th scope=col>title</th><th scope=col>length</th><th scope=col>budget</th><th scope=col>rating</th></tr>\n",
       "\t<tr><th></th><th scope=col>&lt;chr&gt;</th><th scope=col>&lt;int&gt;</th><th scope=col>&lt;int&gt;</th><th scope=col>&lt;dbl&gt;</th></tr>\n",
       "</thead>\n",
       "<tbody>\n",
       "\t<tr><th scope=row>21</th><td>Atrapados             </td><td> 26</td><td>    3500</td><td>9.4</td></tr>\n",
       "\t<tr><th scope=row>91</th><td>Eye of the Beholder   </td><td>109</td><td>15000000</td><td>4.5</td></tr>\n",
       "\t<tr><th scope=row>51</th><td>Change of Climate, A  </td><td> 19</td><td>   15000</td><td>4.6</td></tr>\n",
       "\t<tr><th scope=row>44</th><td>Boys Don't Cry        </td><td>118</td><td> 2000000</td><td>7.6</td></tr>\n",
       "\t<tr><th scope=row>45</th><td>Bravo Two Zero        </td><td>115</td><td> 6500000</td><td>6.5</td></tr>\n",
       "\t<tr><th scope=row>57</th><td>Cider House Rules, The</td><td>126</td><td>24000000</td><td>7.5</td></tr>\n",
       "\t<tr><th scope=row>58</th><td>Clown in Babylon, A   </td><td>105</td><td>  150000</td><td>7.8</td></tr>\n",
       "</tbody>\n",
       "</table>\n"
      ],
      "text/latex": [
       "A data.frame: 7 × 4\n",
       "\\begin{tabular}{r|llll}\n",
       "  & title & length & budget & rating\\\\\n",
       "  & <chr> & <int> & <int> & <dbl>\\\\\n",
       "\\hline\n",
       "\t21 & Atrapados              &  26 &     3500 & 9.4\\\\\n",
       "\t91 & Eye of the Beholder    & 109 & 15000000 & 4.5\\\\\n",
       "\t51 & Change of Climate, A   &  19 &    15000 & 4.6\\\\\n",
       "\t44 & Boys Don't Cry         & 118 &  2000000 & 7.6\\\\\n",
       "\t45 & Bravo Two Zero         & 115 &  6500000 & 6.5\\\\\n",
       "\t57 & Cider House Rules, The & 126 & 24000000 & 7.5\\\\\n",
       "\t58 & Clown in Babylon, A    & 105 &   150000 & 7.8\\\\\n",
       "\\end{tabular}\n"
      ],
      "text/markdown": [
       "\n",
       "A data.frame: 7 × 4\n",
       "\n",
       "| <!--/--> | title &lt;chr&gt; | length &lt;int&gt; | budget &lt;int&gt; | rating &lt;dbl&gt; |\n",
       "|---|---|---|---|---|\n",
       "| 21 | Atrapados              |  26 |     3500 | 9.4 |\n",
       "| 91 | Eye of the Beholder    | 109 | 15000000 | 4.5 |\n",
       "| 51 | Change of Climate, A   |  19 |    15000 | 4.6 |\n",
       "| 44 | Boys Don't Cry         | 118 |  2000000 | 7.6 |\n",
       "| 45 | Bravo Two Zero         | 115 |  6500000 | 6.5 |\n",
       "| 57 | Cider House Rules, The | 126 | 24000000 | 7.5 |\n",
       "| 58 | Clown in Babylon, A    | 105 |   150000 | 7.8 |\n",
       "\n"
      ],
      "text/plain": [
       "   title                  length budget   rating\n",
       "21 Atrapados               26        3500 9.4   \n",
       "91 Eye of the Beholder    109    15000000 4.5   \n",
       "51 Change of Climate, A    19       15000 4.6   \n",
       "44 Boys Don't Cry         118     2000000 7.6   \n",
       "45 Bravo Two Zero         115     6500000 6.5   \n",
       "57 Cider House Rules, The 126    24000000 7.5   \n",
       "58 Clown in Babylon, A    105      150000 7.8   "
      ]
     },
     "metadata": {},
     "output_type": "display_data"
    }
   ],
   "source": [
    "data[c(21, 91, 51, 44, 45, 57, 58), ]\n"
   ]
  },
  {
   "cell_type": "markdown",
   "metadata": {},
   "source": [
    "### 1.b)\n"
   ]
  },
  {
   "cell_type": "code",
   "execution_count": 7,
   "metadata": {
    "vscode": {
     "languageId": "r"
    }
   },
   "outputs": [
    {
     "name": "stderr",
     "output_type": "stream",
     "text": [
      "Warning message in par(usr):\n",
      "\"argument 1 does not name a graphical parameter\"\n",
      "Warning message in par(usr):\n",
      "\"argument 1 does not name a graphical parameter\"\n",
      "Warning message in par(usr):\n",
      "\"argument 1 does not name a graphical parameter\"\n"
     ]
    },
    {
     "data": {
      "image/png": "[encoded data removed]",
      "text/plain": [
       "plot without title"
      ]
     },
     "metadata": {
      "image/png": {
       "height": 420,
       "width": 420
      }
     },
     "output_type": "display_data"
    }
   ],
   "source": [
    "panel.hist <- function(x, ...) {\n",
    "  usr <- par(\"usr\")\n",
    "  on.exit(par(usr))\n",
    "  par(usr = c(usr[1:2], 0, 1.5))\n",
    "  h <- hist(x, plot = FALSE)\n",
    "  breaks <- h$breaks\n",
    "  nB <- length(breaks)\n",
    "  y <- h$counts\n",
    "  y <- y / max(y)\n",
    "  rect(breaks[-nB], 0, breaks[-1], y, col = \"cyan\", ...)\n",
    "}\n",
    "\n",
    "# Scatterplot matrix\n",
    "pairs(\n",
    "  data[, c(2:4)],\n",
    "  pch = 19,\n",
    "  cex = 0.5,\n",
    "  lower.panel = panel.smooth,\n",
    "  main = \"Scatterplot Matrix of Movie Ratings\",\n",
    "  cex.main = 1.5,\n",
    "  cex.axis = 1.5,\n",
    "  cex.lab = 1.5,\n",
    "  diag.panel = panel.hist,\n",
    ")\n"
   ]
  },
  {
   "cell_type": "markdown",
   "metadata": {},
   "source": [
    "Se puede ver que en length vs budget hay una especie de gráfica logarítmica, mientras que en budget vs length hay una gráfica exponencial.\n",
    "Luego, en length vs rating solo parece haber una nube de puntos, no hay una línea. Y en rating vs length R si dibuja una línea, pero no es una línea recta.\n",
    "Finalmente, en budget vs rating hay una nube de puntos que parece una campana de Gauss.\n",
    "\n",
    "Ahora voy a analizar la correlación entre las variables.\n",
    "\n",
    "### 1.c)\n"
   ]
  },
  {
   "cell_type": "code",
   "execution_count": 8,
   "metadata": {
    "vscode": {
     "languageId": "r"
    }
   },
   "outputs": [
    {
     "data": {
      "text/html": [
       "<table class=\"dataframe\">\n",
       "<caption>A matrix: 3 × 3 of type dbl</caption>\n",
       "<thead>\n",
       "\t<tr><th></th><th scope=col>length</th><th scope=col>budget</th><th scope=col>rating</th></tr>\n",
       "</thead>\n",
       "<tbody>\n",
       "\t<tr><th scope=row>length</th><td>1.0000000</td><td>0.4540243</td><td>0.2673303</td></tr>\n",
       "\t<tr><th scope=row>budget</th><td>0.4540243</td><td>1.0000000</td><td>0.1357281</td></tr>\n",
       "\t<tr><th scope=row>rating</th><td>0.2673303</td><td>0.1357281</td><td>1.0000000</td></tr>\n",
       "</tbody>\n",
       "</table>\n"
      ],
      "text/latex": [
       "A matrix: 3 × 3 of type dbl\n",
       "\\begin{tabular}{r|lll}\n",
       "  & length & budget & rating\\\\\n",
       "\\hline\n",
       "\tlength & 1.0000000 & 0.4540243 & 0.2673303\\\\\n",
       "\tbudget & 0.4540243 & 1.0000000 & 0.1357281\\\\\n",
       "\trating & 0.2673303 & 0.1357281 & 1.0000000\\\\\n",
       "\\end{tabular}\n"
      ],
      "text/markdown": [
       "\n",
       "A matrix: 3 × 3 of type dbl\n",
       "\n",
       "| <!--/--> | length | budget | rating |\n",
       "|---|---|---|---|\n",
       "| length | 1.0000000 | 0.4540243 | 0.2673303 |\n",
       "| budget | 0.4540243 | 1.0000000 | 0.1357281 |\n",
       "| rating | 0.2673303 | 0.1357281 | 1.0000000 |\n",
       "\n"
      ],
      "text/plain": [
       "       length    budget    rating   \n",
       "length 1.0000000 0.4540243 0.2673303\n",
       "budget 0.4540243 1.0000000 0.1357281\n",
       "rating 0.2673303 0.1357281 1.0000000"
      ]
     },
     "metadata": {},
     "output_type": "display_data"
    }
   ],
   "source": [
    "# Correlation matrix\n",
    "cor(data[, c(2:4)])\n"
   ]
  },
  {
   "cell_type": "markdown",
   "metadata": {},
   "source": [
    "Se ve que el par de variables con mayor coeficiente de correlación es budget y length, lo cual tiene sentido porque a mayor longitud de película, mayor tiene que ser el presupuesto. Sin embargo, es una correlación débil, ya que lo contrario no sucede. Puede haber películas con un presupuesto muy alto y una longitud muy baja.\n",
    "Luego, el par de variables con menor coeficiente de correlación es budget y rating, lo cual también tiene sentido, ya que el presupuesto de la película no tiene por qué estar relacionada con el rating. Lo mismo pasa con la longitud de la película.\n"
   ]
  }
 ],
 "metadata": {
  "kernelspec": {
   "display_name": "R",
   "language": "R",
   "name": "ir"
  },
  "language_info": {
   "codemirror_mode": "r",
   "file_extension": ".r",
   "mimetype": "text/x-r-source",
   "name": "R",
   "pygments_lexer": "r",
   "version": "4.3.2"
  }
 },
 "nbformat": 4,
 "nbformat_minor": 2
}
